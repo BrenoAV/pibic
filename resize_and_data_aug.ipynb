{
 "cells": [
  {
   "cell_type": "markdown",
   "metadata": {
    "id": "1e3L5kWhjbnJ"
   },
   "source": [
    "# Montar a imagem no Google Drive"
   ]
  },
  {
   "cell_type": "code",
   "execution_count": 1,
   "metadata": {
    "id": "vn1Bl4Y9dNSQ"
   },
   "outputs": [],
   "source": [
    "import os\n",
    "import sys"
   ]
  },
  {
   "cell_type": "markdown",
   "metadata": {
    "id": "SV3n3yF_7-Dl"
   },
   "source": [
    "# Resize"
   ]
  },
  {
   "cell_type": "markdown",
   "metadata": {
    "id": "ca5cbd8xXVl3"
   },
   "source": [
    "## Treino"
   ]
  },
  {
   "cell_type": "code",
   "execution_count": 2,
   "metadata": {
    "colab": {
     "base_uri": "https://localhost:8080/"
    },
    "id": "2Iktbquq79kA",
    "outputId": "50320511-5037-42a1-e683-c7f571f59982"
   },
   "outputs": [],
   "source": [
    "path_to_resize = 'dataset/train/non_defect'\n",
    "path_output = 'dataset/train/non_defect'\n",
    "WIDTH = 224\n",
    "HEIGHT = 224\n",
    "!python scripts/resize.py {path_to_resize} {path_output} {WIDTH} {HEIGHT}"
   ]
  },
  {
   "cell_type": "code",
   "execution_count": 3,
   "metadata": {},
   "outputs": [],
   "source": [
    "path_to_resize = 'dataset/train/defect'\n",
    "path_output = 'dataset/train/defect'\n",
    "WIDTH = 224\n",
    "HEIGHT = 224\n",
    "!python scripts/resize.py {path_to_resize} {path_output} {WIDTH} {HEIGHT}"
   ]
  },
  {
   "cell_type": "markdown",
   "metadata": {
    "id": "LG9eGGGUXYMg"
   },
   "source": [
    "## Validation"
   ]
  },
  {
   "cell_type": "code",
   "execution_count": 4,
   "metadata": {
    "colab": {
     "base_uri": "https://localhost:8080/"
    },
    "id": "VKc-93UPXcbA",
    "outputId": "c4775c0c-22ef-4fee-a32e-fac8b45f0954"
   },
   "outputs": [],
   "source": [
    "path_to_resize = 'dataset/validation/non_defect'\n",
    "path_output = 'dataset/validation/non_defect'\n",
    "WIDTH = 224\n",
    "HEIGHT = 224\n",
    "!python scripts/resize.py {path_to_resize} {path_output} {WIDTH} {HEIGHT}"
   ]
  },
  {
   "cell_type": "code",
   "execution_count": 5,
   "metadata": {},
   "outputs": [],
   "source": [
    "path_to_resize = 'dataset/validation/defect'\n",
    "path_output = 'dataset/validation/defect'\n",
    "WIDTH = 224\n",
    "HEIGHT = 224\n",
    "!python scripts/resize.py {path_to_resize} {path_output} {WIDTH} {HEIGHT}"
   ]
  },
  {
   "cell_type": "markdown",
   "metadata": {
    "id": "rBqff5EC7_7P"
   },
   "source": [
    "# Data Augmentaton"
   ]
  },
  {
   "cell_type": "code",
   "execution_count": 6,
   "metadata": {
    "colab": {
     "base_uri": "https://localhost:8080/"
    },
    "id": "F74TkgbVtJ9C",
    "outputId": "da58e408-a191-4580-9fee-c2daaf31eca8"
   },
   "outputs": [
    {
     "name": "stdout",
     "output_type": "stream",
     "text": [
      "46\n"
     ]
    }
   ],
   "source": [
    "input_non_defect = 'dataset/train/non_defect'\n",
    "output_non_defect = 'dataset/train_with_data_aug/non_defect'\n",
    "\n",
    "!python scripts/data_aug.py {input_non_defect} {output_non_defect} 16"
   ]
  },
  {
   "cell_type": "code",
   "execution_count": 7,
   "metadata": {
    "id": "YK2eN6l4uGJP"
   },
   "outputs": [
    {
     "name": "stdout",
     "output_type": "stream",
     "text": [
      "46\n"
     ]
    }
   ],
   "source": [
    "input_defect = 'dataset/train/defect'\n",
    "output_defect = 'dataset/train_with_data_aug/defect'\n",
    "\n",
    "!python scripts/data_aug.py {input_defect} {output_defect} 16"
   ]
  },
  {
   "cell_type": "code",
   "execution_count": null,
   "metadata": {},
   "outputs": [],
   "source": []
  }
 ],
 "metadata": {
  "colab": {
   "collapsed_sections": [],
   "name": "DataAugmentation.ipynb",
   "provenance": []
  },
  "kernelspec": {
   "display_name": "Python 3 (ipykernel)",
   "language": "python",
   "name": "python3"
  },
  "language_info": {
   "codemirror_mode": {
    "name": "ipython",
    "version": 3
   },
   "file_extension": ".py",
   "mimetype": "text/x-python",
   "name": "python",
   "nbconvert_exporter": "python",
   "pygments_lexer": "ipython3",
   "version": "3.9.12"
  }
 },
 "nbformat": 4,
 "nbformat_minor": 4
}
