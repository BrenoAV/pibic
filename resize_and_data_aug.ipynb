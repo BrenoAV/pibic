{
 "cells": [
  {
   "cell_type": "markdown",
   "metadata": {
    "id": "1e3L5kWhjbnJ"
   },
   "source": [
    "# Montar a imagem no Google Drive"
   ]
  },
  {
   "cell_type": "code",
   "execution_count": 2,
   "metadata": {
    "id": "vn1Bl4Y9dNSQ"
   },
   "outputs": [],
   "source": [
    "import os\n",
    "import sys"
   ]
  },
  {
   "cell_type": "markdown",
   "metadata": {
    "id": "SV3n3yF_7-Dl"
   },
   "source": [
    "# Resize"
   ]
  },
  {
   "cell_type": "markdown",
   "metadata": {
    "id": "ca5cbd8xXVl3"
   },
   "source": [
    "## Treino"
   ]
  },
  {
   "cell_type": "code",
   "execution_count": 4,
   "metadata": {
    "colab": {
     "base_uri": "https://localhost:8080/"
    },
    "id": "2Iktbquq79kA",
    "outputId": "50320511-5037-42a1-e683-c7f571f59982"
   },
   "outputs": [],
   "source": [
    "path_to_resize = 'dataset/train/non-defect'\n",
    "path_output = 'dataset/train/non-defect'\n",
    "WIDTH = 224\n",
    "HEIGHT = 224\n",
    "!python scripts/resize.py {path_to_resize} {path_output} {WIDTH} {HEIGHT}"
   ]
  },
  {
   "cell_type": "code",
   "execution_count": 5,
   "metadata": {},
   "outputs": [],
   "source": [
    "path_to_resize = 'dataset/train/broken'\n",
    "path_output = 'dataset/train/broken'\n",
    "WIDTH = 224\n",
    "HEIGHT = 224\n",
    "!python scripts/resize.py {path_to_resize} {path_output} {WIDTH} {HEIGHT}"
   ]
  },
  {
   "cell_type": "code",
   "execution_count": 6,
   "metadata": {},
   "outputs": [],
   "source": [
    "path_to_resize = 'dataset/train/hole'\n",
    "path_output = 'dataset/train/hole'\n",
    "WIDTH = 224\n",
    "HEIGHT = 224\n",
    "!python scripts/resize.py {path_to_resize} {path_output} {WIDTH} {HEIGHT}"
   ]
  },
  {
   "cell_type": "code",
   "execution_count": 7,
   "metadata": {},
   "outputs": [],
   "source": [
    "path_to_resize = 'dataset/train/painted'\n",
    "path_output = '/train/painted'\n",
    "WIDTH = 224\n",
    "HEIGHT = 224\n",
    "!python scripts/resize.py {path_to_resize} {path_output} {WIDTH} {HEIGHT}"
   ]
  },
  {
   "cell_type": "markdown",
   "metadata": {
    "id": "LG9eGGGUXYMg"
   },
   "source": [
    "## Validation"
   ]
  },
  {
   "cell_type": "code",
   "execution_count": 8,
   "metadata": {
    "colab": {
     "base_uri": "https://localhost:8080/"
    },
    "id": "VKc-93UPXcbA",
    "outputId": "c4775c0c-22ef-4fee-a32e-fac8b45f0954"
   },
   "outputs": [],
   "source": [
    "path_to_resize = 'dataset/validation/non-defect'\n",
    "path_output = 'dataset/validation/non-defect'\n",
    "WIDTH = 224\n",
    "HEIGHT = 224\n",
    "!python scripts/resize.py {path_to_resize} {path_output} {WIDTH} {HEIGHT}"
   ]
  },
  {
   "cell_type": "code",
   "execution_count": 9,
   "metadata": {},
   "outputs": [],
   "source": [
    "path_to_resize = 'dataset/validation/broken'\n",
    "path_output = 'dataset/validation/broken'\n",
    "WIDTH = 224\n",
    "HEIGHT = 224\n",
    "!python scripts/resize.py {path_to_resize} {path_output} {WIDTH} {HEIGHT}"
   ]
  },
  {
   "cell_type": "code",
   "execution_count": 10,
   "metadata": {},
   "outputs": [],
   "source": [
    "path_to_resize = 'dataset/validation/hole'\n",
    "path_output = 'dataset/validation/hole'\n",
    "WIDTH = 224\n",
    "HEIGHT = 224\n",
    "!python scripts/resize.py {path_to_resize} {path_output} {WIDTH} {HEIGHT}"
   ]
  },
  {
   "cell_type": "code",
   "execution_count": 11,
   "metadata": {},
   "outputs": [],
   "source": [
    "path_to_resize = 'dataset/validation/painted'\n",
    "path_output = 'dataset/validation/painted'\n",
    "WIDTH = 224\n",
    "HEIGHT = 224\n",
    "!python scripts/resize.py {path_to_resize} {path_output} {WIDTH} {HEIGHT}"
   ]
  },
  {
   "cell_type": "markdown",
   "metadata": {
    "id": "rBqff5EC7_7P"
   },
   "source": [
    "# Data Augmentaton"
   ]
  },
  {
   "cell_type": "code",
   "execution_count": 15,
   "metadata": {
    "colab": {
     "base_uri": "https://localhost:8080/"
    },
    "id": "F74TkgbVtJ9C",
    "outputId": "da58e408-a191-4580-9fee-c2daaf31eca8"
   },
   "outputs": [
    {
     "name": "stdout",
     "output_type": "stream",
     "text": [
      "46\n"
     ]
    }
   ],
   "source": [
    "input_non_defect = 'dataset/train/non-defect'\n",
    "output_non_defect = 'dataset/train_with_data_aug/non-defect'\n",
    "\n",
    "!python scripts/data_aug.py {input_non_defect} {output_non_defect} 16"
   ]
  },
  {
   "cell_type": "code",
   "execution_count": null,
   "metadata": {
    "id": "YK2eN6l4uGJP"
   },
   "outputs": [],
   "source": [
    "input_broken = 'dataset/train/broken'\n",
    "output_broken = 'dataset/train_with_data_aug/broken'\n",
    "\n",
    "!python scripts/data_aug.py {input_broken} {output_broken} 16"
   ]
  },
  {
   "cell_type": "code",
   "execution_count": null,
   "metadata": {},
   "outputs": [],
   "source": []
  }
 ],
 "metadata": {
  "colab": {
   "collapsed_sections": [],
   "name": "DataAugmentation.ipynb",
   "provenance": []
  },
  "kernelspec": {
   "display_name": "Python 3 (ipykernel)",
   "language": "python",
   "name": "python3"
  },
  "language_info": {
   "codemirror_mode": {
    "name": "ipython",
    "version": 3
   },
   "file_extension": ".py",
   "mimetype": "text/x-python",
   "name": "python",
   "nbconvert_exporter": "python",
   "pygments_lexer": "ipython3",
   "version": "3.9.12"
  }
 },
 "nbformat": 4,
 "nbformat_minor": 1
}
