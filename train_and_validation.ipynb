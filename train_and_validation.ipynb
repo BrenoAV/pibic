{
 "cells": [
  {
   "cell_type": "code",
   "execution_count": 1,
   "id": "broken-architecture",
   "metadata": {
    "executionInfo": {
     "elapsed": 6137,
     "status": "ok",
     "timestamp": 1646917094493,
     "user": {
      "displayName": "Breno Alencar Vieira",
      "photoUrl": "https://lh3.googleusercontent.com/a-/AOh14GjaPyIycC5LQj8u9RUpXXNg--HclX0ee_JRlYjeSg=s64",
      "userId": "07561219366498924762"
     },
     "user_tz": 180
    },
    "id": "broken-architecture"
   },
   "outputs": [],
   "source": [
    "import numpy as np\n",
    "import os\n",
    "import pathlib\n",
    "import matplotlib.pyplot as plt\n",
    "plt.rcParams.update({'font.size': 15})\n",
    "\n",
    "os.environ[\"TF_CPP_MIN_LOG_LEVEL\"] = \"2\"\n",
    "\n",
    "import tensorflow as tf\n",
    "from tensorflow.keras import layers, regularizers, losses, optimizers, preprocessing, applications, callbacks, Input, Model\n",
    "from tensorflow.keras.preprocessing import image_dataset_from_directory\n",
    "from tensorflow.keras.models import load_model"
   ]
  },
  {
   "cell_type": "code",
   "execution_count": 2,
   "id": "476PE2Rp5PtG",
   "metadata": {
    "executionInfo": {
     "elapsed": 437,
     "status": "ok",
     "timestamp": 1646917094924,
     "user": {
      "displayName": "Breno Alencar Vieira",
      "photoUrl": "https://lh3.googleusercontent.com/a-/AOh14GjaPyIycC5LQj8u9RUpXXNg--HclX0ee_JRlYjeSg=s64",
      "userId": "07561219366498924762"
     },
     "user_tz": 180
    },
    "id": "476PE2Rp5PtG"
   },
   "outputs": [],
   "source": [
    "physical_devices = tf.config.list_physical_devices(\"GPU\")\n",
    "tf.config.experimental.set_memory_growth(physical_devices[0], True)"
   ]
  },
  {
   "cell_type": "markdown",
   "id": "3o6s80HeRcr-",
   "metadata": {
    "id": "3o6s80HeRcr-"
   },
   "source": [
    "# CONSTANTES"
   ]
  },
  {
   "cell_type": "code",
   "execution_count": 3,
   "id": "narrow-vermont",
   "metadata": {
    "executionInfo": {
     "elapsed": 11,
     "status": "ok",
     "timestamp": 1646917150405,
     "user": {
      "displayName": "Breno Alencar Vieira",
      "photoUrl": "https://lh3.googleusercontent.com/a-/AOh14GjaPyIycC5LQj8u9RUpXXNg--HclX0ee_JRlYjeSg=s64",
      "userId": "07561219366498924762"
     },
     "user_tz": 180
    },
    "id": "narrow-vermont"
   },
   "outputs": [],
   "source": [
    "NUM_MODEL = '2'\n",
    "DATA_AUG = True\n",
    "BATCH_SIZE = 64\n",
    "IMG_HEIGHT = 224\n",
    "IMG_WIDTH = 224\n",
    "IMG_SIZE = (IMG_WIDTH, IMG_HEIGHT)\n",
    "IMG_SHAPE = IMG_SIZE + (3, )"
   ]
  },
  {
   "cell_type": "markdown",
   "id": "prime-capitol",
   "metadata": {
    "id": "prime-capitol"
   },
   "source": [
    "# DATASET"
   ]
  },
  {
   "cell_type": "code",
   "execution_count": 4,
   "id": "sudden-puppy",
   "metadata": {
    "id": "sudden-puppy"
   },
   "outputs": [],
   "source": [
    "if DATA_AUG:\n",
    "    dataset_dir_train = pathlib.Path('dataset/train_with_data_aug/')\n",
    "else: \n",
    "    dataset_dir_train = pathlib.Path('dataset/train/')\n",
    "\n",
    "dataset_dir_validation = pathlib.Path('dataset/validation/')\n",
    "dataset_dir_test = pathlib.Path('dataset/test/')"
   ]
  },
  {
   "cell_type": "code",
   "execution_count": 5,
   "id": "assumed-apache",
   "metadata": {
    "colab": {
     "base_uri": "https://localhost:8080/"
    },
    "executionInfo": {
     "elapsed": 3063,
     "status": "ok",
     "timestamp": 1646850909254,
     "user": {
      "displayName": "Breno Alencar Vieira",
      "photoUrl": "https://lh3.googleusercontent.com/a-/AOh14GjaPyIycC5LQj8u9RUpXXNg--HclX0ee_JRlYjeSg=s64",
      "userId": "07561219366498924762"
     },
     "user_tz": 180
    },
    "id": "assumed-apache",
    "outputId": "5d43da12-60b1-4f6e-8a1e-2eb1b9182c7d"
   },
   "outputs": [
    {
     "name": "stdout",
     "output_type": "stream",
     "text": [
      "Found 1472 files belonging to 2 classes.\n"
     ]
    }
   ],
   "source": [
    "train_dataset = preprocessing.image_dataset_from_directory(dataset_dir_train, \n",
    "                                                                seed=123, \n",
    "                                                                image_size=(IMG_WIDTH, IMG_HEIGHT), \n",
    "                                                                batch_size=BATCH_SIZE)"
   ]
  },
  {
   "cell_type": "code",
   "execution_count": 6,
   "id": "massive-necklace",
   "metadata": {
    "colab": {
     "base_uri": "https://localhost:8080/"
    },
    "executionInfo": {
     "elapsed": 13,
     "status": "ok",
     "timestamp": 1646850909255,
     "user": {
      "displayName": "Breno Alencar Vieira",
      "photoUrl": "https://lh3.googleusercontent.com/a-/AOh14GjaPyIycC5LQj8u9RUpXXNg--HclX0ee_JRlYjeSg=s64",
      "userId": "07561219366498924762"
     },
     "user_tz": 180
    },
    "id": "massive-necklace",
    "outputId": "0e4ca751-b5ce-4104-ab3b-af3cde4aa9d2"
   },
   "outputs": [
    {
     "name": "stdout",
     "output_type": "stream",
     "text": [
      "Found 30 files belonging to 2 classes.\n"
     ]
    }
   ],
   "source": [
    "validation_dataset = preprocessing.image_dataset_from_directory(dataset_dir_validation, \n",
    "                                                                     seed=123, \n",
    "                                                                     image_size=(IMG_WIDTH, IMG_HEIGHT), \n",
    "                                                                     batch_size=BATCH_SIZE)"
   ]
  },
  {
   "cell_type": "code",
   "execution_count": 7,
   "id": "617c19d6",
   "metadata": {},
   "outputs": [
    {
     "name": "stdout",
     "output_type": "stream",
     "text": [
      "Found 33 files belonging to 2 classes.\n"
     ]
    }
   ],
   "source": [
    "test_dataset = preprocessing.image_dataset_from_directory(dataset_dir_test, \n",
    "                                                                     seed=123, \n",
    "                                                                     image_size=(IMG_WIDTH, IMG_HEIGHT), \n",
    "                                                                     batch_size=BATCH_SIZE)"
   ]
  },
  {
   "cell_type": "code",
   "execution_count": 8,
   "id": "exact-steal",
   "metadata": {
    "colab": {
     "base_uri": "https://localhost:8080/"
    },
    "executionInfo": {
     "elapsed": 9,
     "status": "ok",
     "timestamp": 1646850909255,
     "user": {
      "displayName": "Breno Alencar Vieira",
      "photoUrl": "https://lh3.googleusercontent.com/a-/AOh14GjaPyIycC5LQj8u9RUpXXNg--HclX0ee_JRlYjeSg=s64",
      "userId": "07561219366498924762"
     },
     "user_tz": 180
    },
    "id": "exact-steal",
    "outputId": "a11567b4-226e-4dbd-d815-836ed3b34bfa"
   },
   "outputs": [
    {
     "name": "stdout",
     "output_type": "stream",
     "text": [
      "['defect', 'non_defect']\n",
      "['defect', 'non_defect']\n",
      "['defect', 'non_defect']\n"
     ]
    }
   ],
   "source": [
    "print(train_dataset.class_names)\n",
    "print(validation_dataset.class_names)\n",
    "print(test_dataset.class_names)\n",
    "class_names = train_dataset.class_names"
   ]
  },
  {
   "cell_type": "markdown",
   "id": "yzlrhdyeca_F",
   "metadata": {
    "id": "yzlrhdyeca_F"
   },
   "source": [
    "## train"
   ]
  },
  {
   "cell_type": "code",
   "execution_count": 9,
   "id": "hazardous-nutrition",
   "metadata": {
    "colab": {
     "base_uri": "https://localhost:8080/",
     "height": 1000
    },
    "executionInfo": {
     "elapsed": 4727,
     "status": "ok",
     "timestamp": 1646850913976,
     "user": {
      "displayName": "Breno Alencar Vieira",
      "photoUrl": "https://lh3.googleusercontent.com/a-/AOh14GjaPyIycC5LQj8u9RUpXXNg--HclX0ee_JRlYjeSg=s64",
      "userId": "07561219366498924762"
     },
     "user_tz": 180
    },
    "id": "hazardous-nutrition",
    "outputId": "95f249d6-6cc5-4461-dc59-a6319b80d9ca"
   },
   "outputs": [],
   "source": [
    "# plt.figure(figsize=(15, 20))\n",
    "# for images, labels in train_dataset.take(1):\n",
    "#       for i in range(20):\n",
    "#         ax = plt.subplot(5, 4, i + 1)\n",
    "#         plt.imshow(images[i].numpy().astype(\"uint8\"))\n",
    "#         plt.title(class_names[labels[i]])\n",
    "#         plt.axis(\"off\")"
   ]
  },
  {
   "cell_type": "markdown",
   "id": "KsVBWFOKcXIh",
   "metadata": {
    "id": "KsVBWFOKcXIh"
   },
   "source": [
    "## validation"
   ]
  },
  {
   "cell_type": "code",
   "execution_count": 10,
   "id": "gd3oJYkjcRen",
   "metadata": {
    "colab": {
     "base_uri": "https://localhost:8080/",
     "height": 1000
    },
    "executionInfo": {
     "elapsed": 3622,
     "status": "ok",
     "timestamp": 1646850917560,
     "user": {
      "displayName": "Breno Alencar Vieira",
      "photoUrl": "https://lh3.googleusercontent.com/a-/AOh14GjaPyIycC5LQj8u9RUpXXNg--HclX0ee_JRlYjeSg=s64",
      "userId": "07561219366498924762"
     },
     "user_tz": 180
    },
    "id": "gd3oJYkjcRen",
    "outputId": "36eba664-1f4f-423e-e635-56b9c41ccb61"
   },
   "outputs": [],
   "source": [
    "# plt.figure(figsize=(15, 20))\n",
    "# for images, labels in validation_dataset.take(1):\n",
    "#       for i in range(20):\n",
    "#         ax = plt.subplot(5, 4, i + 1)\n",
    "#         plt.imshow(images[i].numpy().astype(\"uint8\"))\n",
    "#         plt.title(class_names[labels[i]])\n",
    "#         plt.axis(\"off\")"
   ]
  },
  {
   "cell_type": "markdown",
   "id": "c32dc81f",
   "metadata": {},
   "source": [
    "# test"
   ]
  },
  {
   "cell_type": "code",
   "execution_count": 11,
   "id": "b861a1a6",
   "metadata": {},
   "outputs": [],
   "source": [
    "# plt.figure(figsize=(15, 20))\n",
    "# for images, labels in test_dataset.take(1):\n",
    "#       for i in range(20):\n",
    "#         ax = plt.subplot(5, 4, i + 1)\n",
    "#         plt.imshow(images[i].numpy().astype(\"uint8\"))\n",
    "#         plt.title(class_names[labels[i]])\n",
    "#         plt.axis(\"off\")"
   ]
  },
  {
   "cell_type": "markdown",
   "id": "medieval-compound",
   "metadata": {
    "id": "medieval-compound"
   },
   "source": [
    "## Configuração da peformance do dataset"
   ]
  },
  {
   "cell_type": "code",
   "execution_count": 12,
   "id": "legislative-favorite",
   "metadata": {
    "colab": {
     "base_uri": "https://localhost:8080/",
     "height": 217
    },
    "executionInfo": {
     "elapsed": 442,
     "status": "error",
     "timestamp": 1646917225222,
     "user": {
      "displayName": "Breno Alencar Vieira",
      "photoUrl": "https://lh3.googleusercontent.com/a-/AOh14GjaPyIycC5LQj8u9RUpXXNg--HclX0ee_JRlYjeSg=s64",
      "userId": "07561219366498924762"
     },
     "user_tz": 180
    },
    "id": "legislative-favorite",
    "outputId": "d4f5fafc-7e39-4efe-82e4-ce68716c8d51"
   },
   "outputs": [],
   "source": [
    "AUTOTUNE = tf.data.AUTOTUNE\n",
    "\n",
    "train_dataset = train_dataset.prefetch(buffer_size=AUTOTUNE)\n",
    "validation_dataset = validation_dataset.prefetch(buffer_size=AUTOTUNE)"
   ]
  },
  {
   "cell_type": "markdown",
   "id": "accurate-aircraft",
   "metadata": {
    "id": "accurate-aircraft"
   },
   "source": [
    "## Obter a base da MobileNet_V2"
   ]
  },
  {
   "cell_type": "markdown",
   "id": "american-shore",
   "metadata": {
    "id": "american-shore"
   },
   "source": [
    "### Ajustar a entrada para entrada da mobilenet_v2"
   ]
  },
  {
   "cell_type": "code",
   "execution_count": 13,
   "id": "mature-airport",
   "metadata": {
    "executionInfo": {
     "elapsed": 17,
     "status": "ok",
     "timestamp": 1646917226800,
     "user": {
      "displayName": "Breno Alencar Vieira",
      "photoUrl": "https://lh3.googleusercontent.com/a-/AOh14GjaPyIycC5LQj8u9RUpXXNg--HclX0ee_JRlYjeSg=s64",
      "userId": "07561219366498924762"
     },
     "user_tz": 180
    },
    "id": "mature-airport"
   },
   "outputs": [],
   "source": [
    "preprocess_input = applications.mobilenet_v2.preprocess_input"
   ]
  },
  {
   "cell_type": "markdown",
   "id": "vietnamese-finding",
   "metadata": {
    "id": "vietnamese-finding"
   },
   "source": [
    "### Obter o modelo do tensorflow"
   ]
  },
  {
   "cell_type": "code",
   "execution_count": 14,
   "id": "german-chamber",
   "metadata": {
    "colab": {
     "base_uri": "https://localhost:8080/"
    },
    "executionInfo": {
     "elapsed": 6653,
     "status": "ok",
     "timestamp": 1646917234554,
     "user": {
      "displayName": "Breno Alencar Vieira",
      "photoUrl": "https://lh3.googleusercontent.com/a-/AOh14GjaPyIycC5LQj8u9RUpXXNg--HclX0ee_JRlYjeSg=s64",
      "userId": "07561219366498924762"
     },
     "user_tz": 180
    },
    "id": "german-chamber",
    "outputId": "f72c9815-0f99-4127-88b9-0b6856915255"
   },
   "outputs": [],
   "source": [
    "# Create the base model from the pre-trained model MobileNet V2\n",
    "base_model = applications.MobileNetV2(input_shape=IMG_SHAPE,\n",
    "                                               include_top=False,\n",
    "                                               weights='imagenet')"
   ]
  },
  {
   "cell_type": "markdown",
   "id": "signal-wales",
   "metadata": {
    "id": "signal-wales"
   },
   "source": [
    "## Fine Tuning"
   ]
  },
  {
   "cell_type": "code",
   "execution_count": 15,
   "id": "dense-determination",
   "metadata": {
    "colab": {
     "base_uri": "https://localhost:8080/"
    },
    "executionInfo": {
     "elapsed": 12,
     "status": "ok",
     "timestamp": 1646917234555,
     "user": {
      "displayName": "Breno Alencar Vieira",
      "photoUrl": "https://lh3.googleusercontent.com/a-/AOh14GjaPyIycC5LQj8u9RUpXXNg--HclX0ee_JRlYjeSg=s64",
      "userId": "07561219366498924762"
     },
     "user_tz": 180
    },
    "id": "dense-determination",
    "outputId": "72ce7c66-57ce-449d-b7df-dc5d13233110"
   },
   "outputs": [
    {
     "name": "stdout",
     "output_type": "stream",
     "text": [
      "Number of layers in the base model:  154\n"
     ]
    }
   ],
   "source": [
    "# Let's take a look to see how many layers are in the base model\n",
    "print(\"Number of layers in the base model: \", len(base_model.layers))\n",
    "\n",
    "# Fine-tune from this layer onwards\n",
    "fine_tune_at = 90\n",
    "\n",
    "# Freeze all the layers before the `fine_tune_at` layer\n",
    "for layer in base_model.layers[:fine_tune_at]:\n",
    "    layer.trainable =  False\n",
    "for layer in base_model.layers[fine_tune_at:]:\n",
    "    layer.trainable = True\n"
   ]
  },
  {
   "cell_type": "code",
   "execution_count": 16,
   "id": "ruled-matrix",
   "metadata": {
    "colab": {
     "base_uri": "https://localhost:8080/"
    },
    "executionInfo": {
     "elapsed": 832,
     "status": "ok",
     "timestamp": 1646917235381,
     "user": {
      "displayName": "Breno Alencar Vieira",
      "photoUrl": "https://lh3.googleusercontent.com/a-/AOh14GjaPyIycC5LQj8u9RUpXXNg--HclX0ee_JRlYjeSg=s64",
      "userId": "07561219366498924762"
     },
     "user_tz": 180
    },
    "id": "ruled-matrix",
    "outputId": "4332a1d4-21e1-409e-dfff-7ffb5e218459"
   },
   "outputs": [
    {
     "name": "stdout",
     "output_type": "stream",
     "text": [
      "Model: \"model\"\n",
      "_________________________________________________________________\n",
      " Layer (type)                Output Shape              Param #   \n",
      "=================================================================\n",
      " input_2 (InputLayer)        [(None, 224, 224, 3)]     0         \n",
      "                                                                 \n",
      " mobilenetv2_1.00_224 (Funct  (None, 7, 7, 1280)       2257984   \n",
      " ional)                                                          \n",
      "                                                                 \n",
      " flatten (Flatten)           (None, 62720)             0         \n",
      "                                                                 \n",
      " dense (Dense)               (None, 1024)              64226304  \n",
      "                                                                 \n",
      " dropout (Dropout)           (None, 1024)              0         \n",
      "                                                                 \n",
      " dense_1 (Dense)             (None, 512)               524800    \n",
      "                                                                 \n",
      " dropout_1 (Dropout)         (None, 512)               0         \n",
      "                                                                 \n",
      " dense_2 (Dense)             (None, 2)                 1026      \n",
      "                                                                 \n",
      "=================================================================\n",
      "Total params: 67,010,114\n",
      "Trainable params: 66,736,642\n",
      "Non-trainable params: 273,472\n",
      "_________________________________________________________________\n"
     ]
    }
   ],
   "source": [
    "inputs = Input(shape=IMG_SHAPE)\n",
    "x = preprocess_input(inputs)\n",
    "x = base_model(inputs, training=False)\n",
    "x = layers.Flatten()(x)\n",
    "x = layers.Dense(1024, activation='relu')(x)\n",
    "x = layers.Dropout(0.5)(x)\n",
    "x = layers.Dense(512, activation='relu')(x)\n",
    "x = layers.Dropout(0.5)(x)\n",
    "outputs = layers.Dense(2, activation='softmax')(x)\n",
    "model = Model(inputs, outputs)\n",
    "model.summary()"
   ]
  },
  {
   "cell_type": "markdown",
   "id": "opposed-daniel",
   "metadata": {
    "id": "opposed-daniel"
   },
   "source": [
    "# COMPILE"
   ]
  },
  {
   "cell_type": "code",
   "execution_count": 17,
   "id": "local-bridges",
   "metadata": {
    "id": "local-bridges"
   },
   "outputs": [],
   "source": [
    "opt = optimizers.Adam(learning_rate=1e-4)\n",
    "model.compile(optimizer=opt, loss='sparse_categorical_crossentropy', metrics=['accuracy'])"
   ]
  },
  {
   "cell_type": "markdown",
   "id": "4aIbUxR-sYlc",
   "metadata": {
    "id": "4aIbUxR-sYlc"
   },
   "source": [
    "# CALLBACKS"
   ]
  },
  {
   "cell_type": "code",
   "execution_count": 18,
   "id": "pauYKbR_ftN7",
   "metadata": {
    "id": "pauYKbR_ftN7"
   },
   "outputs": [],
   "source": [
    "es = callbacks.EarlyStopping(monitor='val_loss', mode='min', verbose=1, patience=40)\n",
    "pathfile = 'my_best_model.h5'\n",
    "mc = callbacks.ModelCheckpoint(pathfile, monitor='val_loss', mode='min', verbose=1, save_best_only=True)"
   ]
  },
  {
   "cell_type": "markdown",
   "id": "organic-mouse",
   "metadata": {
    "id": "organic-mouse"
   },
   "source": [
    "# TRAIN"
   ]
  },
  {
   "cell_type": "code",
   "execution_count": 19,
   "id": "general-twelve",
   "metadata": {
    "colab": {
     "base_uri": "https://localhost:8080/"
    },
    "executionInfo": {
     "elapsed": 1273575,
     "status": "ok",
     "timestamp": 1646852482816,
     "user": {
      "displayName": "Breno Alencar Vieira",
      "photoUrl": "https://lh3.googleusercontent.com/a-/AOh14GjaPyIycC5LQj8u9RUpXXNg--HclX0ee_JRlYjeSg=s64",
      "userId": "07561219366498924762"
     },
     "user_tz": 180
    },
    "id": "general-twelve",
    "outputId": "31fbf5e1-82e3-4806-de2f-952f30632142"
   },
   "outputs": [
    {
     "name": "stdout",
     "output_type": "stream",
     "text": [
      "Epoch 1/200\n",
      "\n",
      "Epoch 1: val_loss improved from inf to 0.48226, saving model to my_best_model.h5\n",
      "23/23 - 12s - loss: 0.9386 - accuracy: 0.5876 - val_loss: 0.4823 - val_accuracy: 0.8333 - 12s/epoch - 542ms/step\n",
      "Epoch 2/200\n",
      "\n",
      "Epoch 2: val_loss improved from 0.48226 to 0.47536, saving model to my_best_model.h5\n",
      "23/23 - 8s - loss: 0.5200 - accuracy: 0.7140 - val_loss: 0.4754 - val_accuracy: 0.7333 - 8s/epoch - 337ms/step\n",
      "Epoch 3/200\n",
      "\n",
      "Epoch 3: val_loss improved from 0.47536 to 0.34768, saving model to my_best_model.h5\n",
      "23/23 - 8s - loss: 0.3854 - accuracy: 0.8315 - val_loss: 0.3477 - val_accuracy: 0.8333 - 8s/epoch - 328ms/step\n",
      "Epoch 4/200\n",
      "\n",
      "Epoch 4: val_loss improved from 0.34768 to 0.34091, saving model to my_best_model.h5\n",
      "23/23 - 7s - loss: 0.3921 - accuracy: 0.8247 - val_loss: 0.3409 - val_accuracy: 0.8667 - 7s/epoch - 326ms/step\n",
      "Epoch 5/200\n",
      "\n",
      "Epoch 5: val_loss improved from 0.34091 to 0.16962, saving model to my_best_model.h5\n",
      "23/23 - 7s - loss: 0.2800 - accuracy: 0.8770 - val_loss: 0.1696 - val_accuracy: 0.9333 - 7s/epoch - 322ms/step\n",
      "Epoch 6/200\n",
      "\n",
      "Epoch 6: val_loss improved from 0.16962 to 0.15674, saving model to my_best_model.h5\n",
      "23/23 - 7s - loss: 0.1610 - accuracy: 0.9402 - val_loss: 0.1567 - val_accuracy: 0.9667 - 7s/epoch - 324ms/step\n",
      "Epoch 7/200\n",
      "\n",
      "Epoch 7: val_loss did not improve from 0.15674\n",
      "23/23 - 2s - loss: 0.1255 - accuracy: 0.9524 - val_loss: 0.8124 - val_accuracy: 0.8333 - 2s/epoch - 96ms/step\n",
      "Epoch 8/200\n",
      "\n",
      "Epoch 8: val_loss did not improve from 0.15674\n",
      "23/23 - 2s - loss: 0.2843 - accuracy: 0.9056 - val_loss: 0.3224 - val_accuracy: 0.9333 - 2s/epoch - 96ms/step\n",
      "Epoch 9/200\n",
      "\n",
      "Epoch 9: val_loss did not improve from 0.15674\n",
      "23/23 - 2s - loss: 0.2764 - accuracy: 0.8689 - val_loss: 0.4787 - val_accuracy: 0.8333 - 2s/epoch - 96ms/step\n",
      "Epoch 10/200\n",
      "\n",
      "Epoch 10: val_loss did not improve from 0.15674\n",
      "23/23 - 2s - loss: 0.1611 - accuracy: 0.9341 - val_loss: 0.7180 - val_accuracy: 0.8333 - 2s/epoch - 99ms/step\n",
      "Epoch 11/200\n",
      "\n",
      "Epoch 11: val_loss did not improve from 0.15674\n",
      "23/23 - 2s - loss: 0.0848 - accuracy: 0.9749 - val_loss: 0.8495 - val_accuracy: 0.9333 - 2s/epoch - 99ms/step\n",
      "Epoch 12/200\n",
      "\n",
      "Epoch 12: val_loss did not improve from 0.15674\n",
      "23/23 - 2s - loss: 0.0749 - accuracy: 0.9735 - val_loss: 0.6721 - val_accuracy: 0.9333 - 2s/epoch - 97ms/step\n",
      "Epoch 13/200\n",
      "\n",
      "Epoch 13: val_loss did not improve from 0.15674\n",
      "23/23 - 2s - loss: 0.0245 - accuracy: 0.9912 - val_loss: 0.1969 - val_accuracy: 0.9000 - 2s/epoch - 97ms/step\n",
      "Epoch 14/200\n",
      "\n",
      "Epoch 14: val_loss did not improve from 0.15674\n",
      "23/23 - 2s - loss: 0.0410 - accuracy: 0.9878 - val_loss: 1.2596 - val_accuracy: 0.9333 - 2s/epoch - 97ms/step\n",
      "Epoch 15/200\n",
      "\n",
      "Epoch 15: val_loss did not improve from 0.15674\n",
      "23/23 - 2s - loss: 0.0778 - accuracy: 0.9701 - val_loss: 0.3593 - val_accuracy: 0.9333 - 2s/epoch - 99ms/step\n",
      "Epoch 16/200\n",
      "\n",
      "Epoch 16: val_loss did not improve from 0.15674\n",
      "23/23 - 2s - loss: 0.0264 - accuracy: 0.9932 - val_loss: 0.7234 - val_accuracy: 0.9333 - 2s/epoch - 99ms/step\n",
      "Epoch 17/200\n",
      "\n",
      "Epoch 17: val_loss did not improve from 0.15674\n",
      "23/23 - 2s - loss: 0.0210 - accuracy: 0.9918 - val_loss: 1.0661 - val_accuracy: 0.9333 - 2s/epoch - 98ms/step\n",
      "Epoch 18/200\n",
      "\n",
      "Epoch 18: val_loss did not improve from 0.15674\n",
      "23/23 - 2s - loss: 0.0098 - accuracy: 0.9966 - val_loss: 1.3661 - val_accuracy: 0.9333 - 2s/epoch - 99ms/step\n",
      "Epoch 19/200\n",
      "\n",
      "Epoch 19: val_loss did not improve from 0.15674\n",
      "23/23 - 2s - loss: 9.3205e-04 - accuracy: 1.0000 - val_loss: 1.5400 - val_accuracy: 0.9333 - 2s/epoch - 98ms/step\n",
      "Epoch 20/200\n",
      "\n",
      "Epoch 20: val_loss did not improve from 0.15674\n",
      "23/23 - 2s - loss: 3.0434e-05 - accuracy: 1.0000 - val_loss: 1.6846 - val_accuracy: 0.9333 - 2s/epoch - 100ms/step\n",
      "Epoch 21/200\n",
      "\n",
      "Epoch 21: val_loss did not improve from 0.15674\n",
      "23/23 - 2s - loss: 3.2554e-05 - accuracy: 1.0000 - val_loss: 1.6558 - val_accuracy: 0.9333 - 2s/epoch - 99ms/step\n",
      "Epoch 22/200\n",
      "\n",
      "Epoch 22: val_loss did not improve from 0.15674\n",
      "23/23 - 2s - loss: 1.4268e-05 - accuracy: 1.0000 - val_loss: 1.6852 - val_accuracy: 0.9333 - 2s/epoch - 101ms/step\n",
      "Epoch 23/200\n",
      "\n",
      "Epoch 23: val_loss did not improve from 0.15674\n",
      "23/23 - 2s - loss: 5.9577e-06 - accuracy: 1.0000 - val_loss: 1.7228 - val_accuracy: 0.9333 - 2s/epoch - 97ms/step\n",
      "Epoch 24/200\n",
      "\n",
      "Epoch 24: val_loss did not improve from 0.15674\n",
      "23/23 - 2s - loss: 9.0765e-06 - accuracy: 1.0000 - val_loss: 1.7881 - val_accuracy: 0.9333 - 2s/epoch - 97ms/step\n",
      "Epoch 25/200\n",
      "\n",
      "Epoch 25: val_loss did not improve from 0.15674\n",
      "23/23 - 2s - loss: 3.5684e-05 - accuracy: 1.0000 - val_loss: 1.8988 - val_accuracy: 0.9333 - 2s/epoch - 98ms/step\n",
      "Epoch 26/200\n",
      "\n",
      "Epoch 26: val_loss did not improve from 0.15674\n",
      "23/23 - 2s - loss: 4.9893e-06 - accuracy: 1.0000 - val_loss: 1.9555 - val_accuracy: 0.9333 - 2s/epoch - 99ms/step\n",
      "Epoch 27/200\n",
      "\n",
      "Epoch 27: val_loss did not improve from 0.15674\n",
      "23/23 - 2s - loss: 5.2227e-06 - accuracy: 1.0000 - val_loss: 1.9107 - val_accuracy: 0.9333 - 2s/epoch - 101ms/step\n",
      "Epoch 28/200\n",
      "\n",
      "Epoch 28: val_loss did not improve from 0.15674\n",
      "23/23 - 2s - loss: 1.2186e-05 - accuracy: 1.0000 - val_loss: 1.8447 - val_accuracy: 0.9333 - 2s/epoch - 100ms/step\n",
      "Epoch 29/200\n",
      "\n",
      "Epoch 29: val_loss did not improve from 0.15674\n",
      "23/23 - 2s - loss: 2.0535e-05 - accuracy: 1.0000 - val_loss: 1.9236 - val_accuracy: 0.9333 - 2s/epoch - 98ms/step\n",
      "Epoch 30/200\n",
      "\n",
      "Epoch 30: val_loss did not improve from 0.15674\n",
      "23/23 - 2s - loss: 3.9603e-06 - accuracy: 1.0000 - val_loss: 1.8927 - val_accuracy: 0.9333 - 2s/epoch - 98ms/step\n",
      "Epoch 31/200\n",
      "\n",
      "Epoch 31: val_loss did not improve from 0.15674\n",
      "23/23 - 2s - loss: 1.0592e-06 - accuracy: 1.0000 - val_loss: 1.8798 - val_accuracy: 0.9333 - 2s/epoch - 98ms/step\n",
      "Epoch 32/200\n",
      "\n",
      "Epoch 32: val_loss did not improve from 0.15674\n",
      "23/23 - 2s - loss: 5.2930e-07 - accuracy: 1.0000 - val_loss: 1.8858 - val_accuracy: 0.9333 - 2s/epoch - 98ms/step\n",
      "Epoch 33/200\n",
      "\n",
      "Epoch 33: val_loss did not improve from 0.15674\n",
      "23/23 - 2s - loss: 5.6594e-06 - accuracy: 1.0000 - val_loss: 1.8927 - val_accuracy: 0.9333 - 2s/epoch - 98ms/step\n",
      "Epoch 34/200\n",
      "\n",
      "Epoch 34: val_loss did not improve from 0.15674\n",
      "23/23 - 2s - loss: 3.1941e-06 - accuracy: 1.0000 - val_loss: 1.9209 - val_accuracy: 0.9333 - 2s/epoch - 99ms/step\n",
      "Epoch 35/200\n",
      "\n",
      "Epoch 35: val_loss did not improve from 0.15674\n",
      "23/23 - 2s - loss: 7.7667e-07 - accuracy: 1.0000 - val_loss: 1.9369 - val_accuracy: 0.9333 - 2s/epoch - 99ms/step\n",
      "Epoch 36/200\n",
      "\n",
      "Epoch 36: val_loss did not improve from 0.15674\n",
      "23/23 - 2s - loss: 1.5735e-06 - accuracy: 1.0000 - val_loss: 1.9288 - val_accuracy: 0.9333 - 2s/epoch - 99ms/step\n",
      "Epoch 37/200\n",
      "\n",
      "Epoch 37: val_loss did not improve from 0.15674\n",
      "23/23 - 2s - loss: 1.7625e-06 - accuracy: 1.0000 - val_loss: 1.9199 - val_accuracy: 0.9333 - 2s/epoch - 99ms/step\n",
      "Epoch 38/200\n",
      "\n",
      "Epoch 38: val_loss did not improve from 0.15674\n",
      "23/23 - 2s - loss: 1.2968e-06 - accuracy: 1.0000 - val_loss: 1.9371 - val_accuracy: 0.9333 - 2s/epoch - 98ms/step\n",
      "Epoch 39/200\n",
      "\n",
      "Epoch 39: val_loss did not improve from 0.15674\n",
      "23/23 - 2s - loss: 8.8610e-07 - accuracy: 1.0000 - val_loss: 1.9623 - val_accuracy: 0.9333 - 2s/epoch - 101ms/step\n",
      "Epoch 40/200\n",
      "\n",
      "Epoch 40: val_loss did not improve from 0.15674\n",
      "23/23 - 2s - loss: 2.6235e-06 - accuracy: 1.0000 - val_loss: 1.9641 - val_accuracy: 0.9333 - 2s/epoch - 101ms/step\n",
      "Epoch 41/200\n",
      "\n",
      "Epoch 41: val_loss did not improve from 0.15674\n",
      "23/23 - 2s - loss: 2.4900e-05 - accuracy: 1.0000 - val_loss: 2.3248 - val_accuracy: 0.9333 - 2s/epoch - 101ms/step\n",
      "Epoch 42/200\n",
      "\n",
      "Epoch 42: val_loss did not improve from 0.15674\n",
      "23/23 - 2s - loss: 1.1816e-05 - accuracy: 1.0000 - val_loss: 2.2703 - val_accuracy: 0.9333 - 2s/epoch - 103ms/step\n",
      "Epoch 43/200\n",
      "\n",
      "Epoch 43: val_loss did not improve from 0.15674\n",
      "23/23 - 2s - loss: 2.3861e-06 - accuracy: 1.0000 - val_loss: 2.1798 - val_accuracy: 0.9333 - 2s/epoch - 104ms/step\n",
      "Epoch 44/200\n",
      "\n",
      "Epoch 44: val_loss did not improve from 0.15674\n",
      "23/23 - 2s - loss: 5.6841e-07 - accuracy: 1.0000 - val_loss: 2.1685 - val_accuracy: 0.9333 - 2s/epoch - 103ms/step\n",
      "Epoch 45/200\n",
      "\n",
      "Epoch 45: val_loss did not improve from 0.15674\n",
      "23/23 - 2s - loss: 9.3728e-07 - accuracy: 1.0000 - val_loss: 2.1591 - val_accuracy: 0.9333 - 2s/epoch - 102ms/step\n",
      "Epoch 46/200\n",
      "\n",
      "Epoch 46: val_loss did not improve from 0.15674\n",
      "23/23 - 2s - loss: 1.4425e-06 - accuracy: 1.0000 - val_loss: 2.1435 - val_accuracy: 0.9333 - 2s/epoch - 103ms/step\n"
     ]
    },
    {
     "name": "stdout",
     "output_type": "stream",
     "text": [
      "Epoch 46: early stopping\n"
     ]
    }
   ],
   "source": [
    "history = model.fit(train_dataset, \n",
    "                    batch_size=BATCH_SIZE, \n",
    "                    epochs=200, \n",
    "                    validation_data=validation_dataset,\n",
    "                    callbacks=[es, mc],\n",
    "                    verbose=2\n",
    "                    )"
   ]
  },
  {
   "cell_type": "markdown",
   "id": "nonprofit-holocaust",
   "metadata": {
    "id": "nonprofit-holocaust"
   },
   "source": [
    "# Load best model"
   ]
  },
  {
   "cell_type": "code",
   "execution_count": 20,
   "id": "earned-novelty",
   "metadata": {
    "colab": {
     "base_uri": "https://localhost:8080/"
    },
    "executionInfo": {
     "elapsed": 24195,
     "status": "ok",
     "timestamp": 1646852516034,
     "user": {
      "displayName": "Breno Alencar Vieira",
      "photoUrl": "https://lh3.googleusercontent.com/a-/AOh14GjaPyIycC5LQj8u9RUpXXNg--HclX0ee_JRlYjeSg=s64",
      "userId": "07561219366498924762"
     },
     "user_tz": 180
    },
    "id": "earned-novelty",
    "outputId": "7adbf074-707e-48ed-fe6a-bf2ec06fd096"
   },
   "outputs": [],
   "source": [
    "model_best = load_model('my_best_model.h5')  # Load the best model"
   ]
  },
  {
   "cell_type": "markdown",
   "id": "18589c41",
   "metadata": {},
   "source": [
    "# Save best model"
   ]
  },
  {
   "cell_type": "code",
   "execution_count": 21,
   "id": "e243ac89",
   "metadata": {},
   "outputs": [],
   "source": [
    "model_best.save('model_v' + NUM_MODEL + '.h5')"
   ]
  },
  {
   "cell_type": "code",
   "execution_count": 22,
   "id": "d7d7b867",
   "metadata": {},
   "outputs": [],
   "source": [
    "!rm my_best_model.h5 # Windows"
   ]
  },
  {
   "cell_type": "code",
   "execution_count": 23,
   "id": "accomplished-lloyd",
   "metadata": {
    "id": "accomplished-lloyd"
   },
   "outputs": [],
   "source": [
    "import json\n",
    "\n",
    "history_dict = history.history\n",
    "json.dump(str(history_dict), open('history_v' + NUM_MODEL + '.txt', 'w'))"
   ]
  },
  {
   "cell_type": "markdown",
   "id": "boxed-pillow",
   "metadata": {
    "id": "boxed-pillow"
   },
   "source": [
    "# Learning curves"
   ]
  },
  {
   "cell_type": "code",
   "execution_count": 24,
   "id": "2nPQFaht7JL7",
   "metadata": {
    "id": "2nPQFaht7JL7"
   },
   "outputs": [],
   "source": [
    "num_epocas = len(history.history['loss'])"
   ]
  },
  {
   "cell_type": "code",
   "execution_count": 25,
   "id": "absolute-dinner",
   "metadata": {
    "colab": {
     "base_uri": "https://localhost:8080/",
     "height": 622
    },
    "executionInfo": {
     "elapsed": 1169,
     "status": "ok",
     "timestamp": 1646852517188,
     "user": {
      "displayName": "Breno Alencar Vieira",
      "photoUrl": "https://lh3.googleusercontent.com/a-/AOh14GjaPyIycC5LQj8u9RUpXXNg--HclX0ee_JRlYjeSg=s64",
      "userId": "07561219366498924762"
     },
     "user_tz": 180
    },
    "id": "absolute-dinner",
    "outputId": "3e45fa1d-d473-48be-9e40-cb3c4d828898",
    "scrolled": true
   },
   "outputs": [
    {
     "data": {
      "image/png": "[encoded data removed]",
      "text/plain": [
       "<Figure size 1080x720 with 2 Axes>"
      ]
     },
     "metadata": {
      "needs_background": "light"
     },
     "output_type": "display_data"
    }
   ],
   "source": [
    "acc = history.history['accuracy']\n",
    "val_acc = history.history['val_accuracy']\n",
    "\n",
    "loss = history.history['loss']\n",
    "val_loss = history.history['val_loss']\n",
    "\n",
    "plt.figure(figsize=(15, 10))\n",
    "plt.subplot(2, 1, 1)\n",
    "plt.plot(acc, 'g', label='Train')\n",
    "plt.plot(val_acc, 'b', label='Validation')\n",
    "plt.legend(loc='lower right')\n",
    "plt.ylabel('Precisão')\n",
    "plt.xticks(np.arange(0,num_epocas + 1, 5))\n",
    "plt.ylim([min(plt.ylim()),1.02])\n",
    "plt.title('Model accuracy')\n",
    "\n",
    "plt.subplot(2, 1, 2)\n",
    "plt.plot(loss, 'g', label='Train')\n",
    "plt.plot(val_loss, 'b', label='Validation')\n",
    "plt.legend(loc='upper right')\n",
    "plt.ylabel('Cross Entropia')\n",
    "plt.title('Model losses')\n",
    "plt.xlabel('epochs')\n",
    "plt.xticks(np.arange(0,num_epocas + 1, 5))\n",
    "plt.savefig(f'history_{NUM_MODEL}.png')\n",
    "plt.show()"
   ]
  },
  {
   "cell_type": "markdown",
   "id": "ea7d2564",
   "metadata": {},
   "source": [
    "# Test"
   ]
  },
  {
   "cell_type": "code",
   "execution_count": 26,
   "id": "o4Ixk0rIgaSt",
   "metadata": {
    "id": "o4Ixk0rIgaSt"
   },
   "outputs": [
    {
     "name": "stdout",
     "output_type": "stream",
     "text": [
      "1/1 [==============================] - 1s 871ms/step - loss: 0.0556 - accuracy: 1.0000\n"
     ]
    },
    {
     "data": {
      "text/plain": [
       "[0.05562462657690048, 1.0]"
      ]
     },
     "execution_count": 26,
     "metadata": {},
     "output_type": "execute_result"
    }
   ],
   "source": [
    "model_best.evaluate(test_dataset)"
   ]
  },
  {
   "cell_type": "markdown",
   "id": "3731ccf1",
   "metadata": {},
   "source": [
    "# Confusion Matrix"
   ]
  },
  {
   "cell_type": "code",
   "execution_count": 27,
   "id": "9a00ba46",
   "metadata": {},
   "outputs": [
    {
     "data": {
      "text/plain": [
       "array([1, 1, 1, 0, 0, 1, 1, 1, 1, 1, 0, 1, 0, 1, 0, 0, 0, 1, 1, 0, 0, 1,\n",
       "       0, 0, 0, 1, 0, 0, 0, 0, 0, 1, 1], dtype=int32)"
      ]
     },
     "execution_count": 27,
     "metadata": {},
     "output_type": "execute_result"
    }
   ],
   "source": [
    "for images, labels in test_dataset.take(-1):\n",
    "    numpy_images = images.numpy()\n",
    "    y_true = labels.numpy()\n",
    "y_true"
   ]
  },
  {
   "cell_type": "code",
   "execution_count": 28,
   "id": "60d1fe74",
   "metadata": {},
   "outputs": [
    {
     "name": "stdout",
     "output_type": "stream",
     "text": [
      "2/2 [==============================] - 1s 209ms/step\n"
     ]
    },
    {
     "data": {
      "text/plain": [
       "array([1, 1, 1, 0, 0, 1, 1, 1, 1, 1, 0, 1, 0, 1, 0, 0, 0, 1, 1, 0, 0, 1,\n",
       "       0, 0, 0, 1, 0, 0, 0, 0, 0, 1, 1])"
      ]
     },
     "execution_count": 28,
     "metadata": {},
     "output_type": "execute_result"
    }
   ],
   "source": [
    "y_predict = np.argmax(model_best.predict(numpy_images), axis=1)\n",
    "y_predict"
   ]
  },
  {
   "cell_type": "code",
   "execution_count": 29,
   "id": "73565b19",
   "metadata": {},
   "outputs": [
    {
     "data": {
      "image/png": "[encoded data removed]",
      "text/plain": [
       "<Figure size 288x288 with 1 Axes>"
      ]
     },
     "metadata": {
      "needs_background": "light"
     },
     "output_type": "display_data"
    }
   ],
   "source": [
    "from sklearn.metrics import confusion_matrix\n",
    "import seaborn as sns\n",
    "\n",
    "cf_matrix = confusion_matrix(y_true, y_predict)\n",
    "\n",
    "\n",
    "plt.figure(figsize=(4,4))\n",
    "sns.heatmap(cf_matrix,\n",
    "            annot=True,\n",
    "            cbar=False,\n",
    "            cmap=\"YlGnBu\",\n",
    "            fmt='d',\n",
    "            yticklabels=class_names,\n",
    "            xticklabels=class_names,\n",
    "            annot_kws={\"size\": 20})\n",
    "            \n",
    "plt.ylabel(\"True values\")\n",
    "plt.xlabel(\"Predict values\")\n",
    "plt.savefig(f'confusion_matrix_{NUM_MODEL}.png')\n",
    "plt.show()"
   ]
  },
  {
   "cell_type": "code",
   "execution_count": null,
   "id": "c375ef54",
   "metadata": {},
   "outputs": [],
   "source": []
  }
 ],
 "metadata": {
  "accelerator": "GPU",
  "colab": {
   "collapsed_sections": [],
   "name": "rede_neural_tcc_treino.ipynb",
   "provenance": []
  },
  "kernelspec": {
   "display_name": "Python 3 (ipykernel)",
   "language": "python",
   "name": "python3"
  },
  "language_info": {
   "codemirror_mode": {
    "name": "ipython",
    "version": 3
   },
   "file_extension": ".py",
   "mimetype": "text/x-python",
   "name": "python",
   "nbconvert_exporter": "python",
   "pygments_lexer": "ipython3",
   "version": "3.10.4"
  }
 },
 "nbformat": 4,
 "nbformat_minor": 5
}
